{
 "cells": [
  {
   "cell_type": "code",
   "execution_count": 3,
   "metadata": {},
   "outputs": [],
   "source": [
    "from punctuator import Punctuator"
   ]
  },
  {
   "cell_type": "code",
   "execution_count": 4,
   "metadata": {},
   "outputs": [],
   "source": [
    "p = Punctuator('model.pcl')"
   ]
  },
  {
   "cell_type": "code",
   "execution_count": 5,
   "metadata": {},
   "outputs": [
    {
     "name": "stdout",
     "output_type": "stream",
     "text": [
      "What is punctuation.\n"
     ]
    }
   ],
   "source": [
    "print(p.punctuate('what is punctuation'))"
   ]
  },
  {
   "cell_type": "code",
   "execution_count": 12,
   "metadata": {},
   "outputs": [
    {
     "name": "stdout",
     "output_type": "stream",
     "text": [
      "let's cut right to the chase for most\n",
      "people budgeting just\n",
      "doesn't work\n",
      "[Applause]\n",
      "you maybe follow your budget for a few\n",
      "days or a few weeks but soon you forget\n",
      "about your budget and stop\n",
      "tracking the flow of your money and\n",
      "there goes your budget and that's\n",
      "because the reality is\n",
      "most of your budget is fixed you can't\n",
      "really do anything about it without\n",
      "making major life decisions\n",
      "your rent is your rent your phone bill\n",
      "is your phone bill your car payment is\n",
      "your car payment\n",
      "but the focus of today is the fact that\n",
      "many people struggle with the little\n",
      "ongoing frequent purchases like eating\n",
      "out\n",
      "delivery services or shopping so let's\n",
      "tackle each one of those individually\n",
      "first let's talk about eating up in my\n",
      "research along with some colleagues i\n",
      "found that eating out is one of the\n",
      "biggest financial regrets that people\n",
      "have\n",
      "the only other expense that's even less\n",
      "satisfying than eating out are bank fees\n",
      "for eating out\n",
      "instead of making a financial budget\n",
      "where you tell yourself you're only\n",
      "gonna spend a hundred dollars a month on\n",
      "eating out let's focus on what i call a\n",
      "frequency budget instead\n",
      "so instead of focusing on the amount of\n",
      "money that's much harder to track and\n",
      "sometimes even impossible to track\n",
      "let's focus on limiting the number of\n",
      "times that you go out to eat\n",
      "you'll have a much easier time saying no\n",
      "and tracking your budget\n",
      "now i understand that we are all social\n",
      "humans and eating out is such a social\n",
      "activity and if that's what you're\n",
      "craving\n",
      "i have some tips to make sure you can\n",
      "hit two birds with one stone instead of\n",
      "eating out\n",
      "go and have a picnic with friends sign\n",
      "up for a workout class\n",
      "or do any of the hundred social\n",
      "activities that you can do\n",
      "without having to spend fifty to seventy\n",
      "dollars a night if you plan it right\n",
      "you can still satisfy your social\n",
      "craving and still save your wallet a lot\n",
      "of money\n",
      "now let's talk about delivery services a\n",
      "recent investigation found that those\n",
      "who order through a delivery app\n",
      "end up spending anywhere from seven\n",
      "percent to 91\n",
      "more than those who dined in thanks to\n",
      "the pile of miscellaneous charges and\n",
      "fees\n",
      "in fact the same item can be more\n",
      "expensive\n",
      "on the app than in the restaurant right\n",
      "now\n",
      "you may be ordering out more frequently\n",
      "one analysis found that with the\n",
      "addition of delivery apps\n",
      "fast food is no longer something\n",
      "associated with a quick bite on the go\n",
      "given the added baggage that comes with\n",
      "these delivery apps\n",
      "my top tip here is to delete the apps\n",
      "from your phone\n",
      "now if deleting it is too permanent or\n",
      "too extreme\n",
      "you can still change your environment by\n",
      "making as many speed bumps as you can\n",
      "to slow down the pace of purchases maybe\n",
      "link the app to a debit card\n",
      "with a small preset amount of money you\n",
      "can also delete the app\n",
      "after every purchase so that it's not\n",
      "enticing you\n",
      "at all hours now let's talk about\n",
      "shopping let me be clear i'm not\n",
      "saying that you should never go shopping\n",
      "what i am saying\n",
      "is that i encourage you to buy the\n",
      "things that bring you happiness\n",
      "research has shown that when you spend\n",
      "money on others\n",
      "when you spend money on experiences and\n",
      "when you spend money on the things that\n",
      "save you time\n",
      "these expenses make you happier and i\n",
      "know retail therapy may seem great but\n",
      "researchers have found that spending the\n",
      "same amount of money on someone else\n",
      "even as little as five dollars can make\n",
      "you happier so get that t-shirt for your\n",
      "friend\n",
      "instead of yourself make a donation to a\n",
      "place that you\n",
      "really love and support or buy an\n",
      "experience for yourself\n",
      "try something for the first time and if\n",
      "you're overwhelmed and you're burning\n",
      "the candle at both ends\n",
      "know that it's okay to invest in\n",
      "something that will free up your time\n",
      "hire a local high schooler to mow your\n",
      "lawn or get someone to clean your house\n",
      "these may be a little pricey but the\n",
      "time you save will be worth every penny\n",
      "by making these small changes to your\n",
      "discretionary spending you can\n",
      "not only spend less but actually get\n",
      "more happiness and satisfaction from\n",
      "your spending\n",
      "it could mean a life with fewer guilty\n",
      "pleasures\n",
      "and less regret now who wouldn't want\n",
      "that\n",
      "Up next\n",
      "\n",
      "\n"
     ]
    }
   ],
   "source": [
    "f = open(\"transcript.txt\", \"r\")\n",
    "para = f.read()\n",
    "print(para)"
   ]
  },
  {
   "cell_type": "code",
   "execution_count": 13,
   "metadata": {},
   "outputs": [],
   "source": [
    "final_string = p.punctuate(para)"
   ]
  },
  {
   "cell_type": "code",
   "execution_count": 17,
   "metadata": {},
   "outputs": [],
   "source": [
    "out = open('punctuated.txt','w')\n"
   ]
  },
  {
   "cell_type": "code",
   "execution_count": 18,
   "metadata": {},
   "outputs": [
    {
     "data": {
      "text/plain": [
       "4127"
      ]
     },
     "execution_count": 18,
     "metadata": {},
     "output_type": "execute_result"
    }
   ],
   "source": [
    "out.write(final_string)"
   ]
  },
  {
   "cell_type": "code",
   "execution_count": null,
   "metadata": {},
   "outputs": [],
   "source": []
  }
 ],
 "metadata": {
  "kernelspec": {
   "display_name": "Python 3",
   "language": "python",
   "name": "python3"
  },
  "language_info": {
   "codemirror_mode": {
    "name": "ipython",
    "version": 3
   },
   "file_extension": ".py",
   "mimetype": "text/x-python",
   "name": "python",
   "nbconvert_exporter": "python",
   "pygments_lexer": "ipython3",
   "version": "3.6.9"
  }
 },
 "nbformat": 4,
 "nbformat_minor": 4
}
